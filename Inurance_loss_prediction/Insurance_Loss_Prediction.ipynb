{
 "cells": [
  {
   "cell_type": "code",
   "execution_count": 1,
   "metadata": {},
   "outputs": [
    {
     "name": "stderr",
     "output_type": "stream",
     "text": [
      "Using TensorFlow backend.\n"
     ]
    }
   ],
   "source": [
    "import pandas as pd\n",
    "import numpy as np\n",
    "import matplotlib as plt\n",
    "from sklearn.preprocessing import LabelEncoder\n",
    "from sklearn.model_selection import train_test_split\n",
    "from sklearn.ensemble import RandomForestRegressor\n",
    "from sklearn.metrics import accuracy_score\n",
    "from keras.models import Sequential\n",
    "from keras.layers import Dense"
   ]
  },
  {
   "cell_type": "code",
   "execution_count": 2,
   "metadata": {},
   "outputs": [],
   "source": [
    "df = pd.read_csv(\"C:/Users/ETHIRAJ/Desktop/Inurance_loss_prediction/Iowa_Property_Casualty_Insurance_Premiums_and_Losses.csv\")"
   ]
  },
  {
   "cell_type": "code",
   "execution_count": 3,
   "metadata": {},
   "outputs": [
    {
     "name": "stdout",
     "output_type": "stream",
     "text": [
      "   Year Iowa Code Chapter State                           Company Name  \\\n",
      "0  2017            515.48    WI  1st Auto & Casualty Insurance Company   \n",
      "1  2017            515.48    WI  1st Auto & Casualty Insurance Company   \n",
      "2  2017            515.48    WI  1st Auto & Casualty Insurance Company   \n",
      "3  2017            515.48    WI  1st Auto & Casualty Insurance Company   \n",
      "4  2017            515.48    WI  1st Auto & Casualty Insurance Company   \n",
      "\n",
      "           Line of Insurance  Premiums Written  Losses Paid  Taxes Paid  \\\n",
      "0                       Fire                 0            0           0   \n",
      "1               Allied Lines                 0            0           0   \n",
      "2        Multiple Peril Crop                 0            0           0   \n",
      "3              Federal Flood                 0            0           0   \n",
      "4  Farmowners Multiple Peril             73953         3900         754   \n",
      "\n",
      "   NAIC Number  Iowa Company Code  \n",
      "0        44725               2894  \n",
      "1        44725               2894  \n",
      "2        44725               2894  \n",
      "3        44725               2894  \n",
      "4        44725               2894  \n"
     ]
    }
   ],
   "source": [
    "print(df.head(5))"
   ]
  },
  {
   "cell_type": "code",
   "execution_count": 4,
   "metadata": {},
   "outputs": [],
   "source": [
    "df['total gain'] = df.apply(lambda x: x['Premiums Written'] + x['Losses Paid'] - x['Taxes Paid'], axis=1)\n",
    "df_new= df.drop(['NAIC Number', 'Iowa Company Code','Iowa Code Chapter','State','Premiums Written', 'Losses Paid','Taxes Paid'], axis=1)"
   ]
  },
  {
   "cell_type": "code",
   "execution_count": 5,
   "metadata": {},
   "outputs": [
    {
     "data": {
      "text/html": [
       "<div>\n",
       "<style scoped>\n",
       "    .dataframe tbody tr th:only-of-type {\n",
       "        vertical-align: middle;\n",
       "    }\n",
       "\n",
       "    .dataframe tbody tr th {\n",
       "        vertical-align: top;\n",
       "    }\n",
       "\n",
       "    .dataframe thead th {\n",
       "        text-align: right;\n",
       "    }\n",
       "</style>\n",
       "<table border=\"1\" class=\"dataframe\">\n",
       "  <thead>\n",
       "    <tr style=\"text-align: right;\">\n",
       "      <th></th>\n",
       "      <th>Year</th>\n",
       "      <th>Company Name</th>\n",
       "      <th>Line of Insurance</th>\n",
       "      <th>total gain</th>\n",
       "    </tr>\n",
       "  </thead>\n",
       "  <tbody>\n",
       "    <tr>\n",
       "      <th>0</th>\n",
       "      <td>2017</td>\n",
       "      <td>1st Auto &amp; Casualty Insurance Company</td>\n",
       "      <td>Fire</td>\n",
       "      <td>0</td>\n",
       "    </tr>\n",
       "    <tr>\n",
       "      <th>1</th>\n",
       "      <td>2017</td>\n",
       "      <td>1st Auto &amp; Casualty Insurance Company</td>\n",
       "      <td>Allied Lines</td>\n",
       "      <td>0</td>\n",
       "    </tr>\n",
       "    <tr>\n",
       "      <th>2</th>\n",
       "      <td>2017</td>\n",
       "      <td>1st Auto &amp; Casualty Insurance Company</td>\n",
       "      <td>Multiple Peril Crop</td>\n",
       "      <td>0</td>\n",
       "    </tr>\n",
       "    <tr>\n",
       "      <th>3</th>\n",
       "      <td>2017</td>\n",
       "      <td>1st Auto &amp; Casualty Insurance Company</td>\n",
       "      <td>Federal Flood</td>\n",
       "      <td>0</td>\n",
       "    </tr>\n",
       "    <tr>\n",
       "      <th>4</th>\n",
       "      <td>2017</td>\n",
       "      <td>1st Auto &amp; Casualty Insurance Company</td>\n",
       "      <td>Farmowners Multiple Peril</td>\n",
       "      <td>77099</td>\n",
       "    </tr>\n",
       "  </tbody>\n",
       "</table>\n",
       "</div>"
      ],
      "text/plain": [
       "   Year                           Company Name          Line of Insurance  \\\n",
       "0  2017  1st Auto & Casualty Insurance Company                       Fire   \n",
       "1  2017  1st Auto & Casualty Insurance Company               Allied Lines   \n",
       "2  2017  1st Auto & Casualty Insurance Company        Multiple Peril Crop   \n",
       "3  2017  1st Auto & Casualty Insurance Company              Federal Flood   \n",
       "4  2017  1st Auto & Casualty Insurance Company  Farmowners Multiple Peril   \n",
       "\n",
       "   total gain  \n",
       "0           0  \n",
       "1           0  \n",
       "2           0  \n",
       "3           0  \n",
       "4       77099  "
      ]
     },
     "execution_count": 5,
     "metadata": {},
     "output_type": "execute_result"
    }
   ],
   "source": [
    "df_new.head(5)"
   ]
  },
  {
   "cell_type": "code",
   "execution_count": 6,
   "metadata": {},
   "outputs": [],
   "source": [
    "number = LabelEncoder();\n",
    "df_new['Company Name']= number.fit_transform(df_new['Company Name'].astype('str'))\n",
    "df_new['Line of Insurance']= number.fit_transform(df_new['Line of Insurance'].astype('str'))"
   ]
  },
  {
   "cell_type": "code",
   "execution_count": 7,
   "metadata": {},
   "outputs": [
    {
     "name": "stdout",
     "output_type": "stream",
     "text": [
      "          Year  Company Name  Line of Insurance    total gain\n",
      "count  39001.0  39001.000000       39001.000000  3.900100e+04\n",
      "mean    2017.0    453.000000          21.000000  2.445814e+05\n",
      "std        0.0    261.831545          12.409833  3.999830e+06\n",
      "min     2017.0      0.000000           0.000000 -2.005889e+06\n",
      "25%     2017.0    226.000000          10.000000  0.000000e+00\n",
      "50%     2017.0    453.000000          21.000000  0.000000e+00\n",
      "75%     2017.0    680.000000          32.000000  0.000000e+00\n",
      "max     2017.0    906.000000          42.000000  3.750965e+08\n"
     ]
    }
   ],
   "source": [
    "print(df_new.describe())"
   ]
  },
  {
   "cell_type": "code",
   "execution_count": 8,
   "metadata": {},
   "outputs": [],
   "source": [
    "train, test = train_test_split(df_new, test_size=0.2)"
   ]
  },
  {
   "cell_type": "code",
   "execution_count": 9,
   "metadata": {},
   "outputs": [],
   "source": [
    "train_labels = np.array(train['total gain'])\n",
    "train_features= train.drop('total gain', axis = 1)\n",
    "test_labels = np.array(test['total gain'])\n",
    "test_features= test.drop('total gain', axis = 1)\n",
    "feature_list = list(df_new.columns)"
   ]
  },
  {
   "cell_type": "code",
   "execution_count": 10,
   "metadata": {},
   "outputs": [],
   "source": [
    "rf = RandomForestRegressor(n_estimators = 1000, random_state = 42)\n",
    "rf.fit(train_features, train_labels);"
   ]
  },
  {
   "cell_type": "code",
   "execution_count": 11,
   "metadata": {},
   "outputs": [
    {
     "name": "stdout",
     "output_type": "stream",
     "text": [
      "Mean Absolute Error: 378677.56 degrees.\n"
     ]
    }
   ],
   "source": [
    "predictions = rf.predict(test_features)\n",
    "errors = abs(predictions - test_labels)\n",
    "print('Mean Absolute Error:', round(np.mean(errors), 2), 'degrees.')"
   ]
  },
  {
   "cell_type": "code",
   "execution_count": 12,
   "metadata": {},
   "outputs": [
    {
     "name": "stdout",
     "output_type": "stream",
     "text": [
      "0.4022561210101269\n"
     ]
    }
   ],
   "source": [
    "accuracy = accuracy_score(test_labels, predictions.round())\n",
    "print(accuracy)"
   ]
  },
  {
   "cell_type": "code",
   "execution_count": 13,
   "metadata": {},
   "outputs": [],
   "source": [
    "#this model produces poor accuracy so a new model is designed"
   ]
  },
  {
   "cell_type": "code",
   "execution_count": 14,
   "metadata": {},
   "outputs": [
    {
     "name": "stdout",
     "output_type": "stream",
     "text": [
      "WARNING:tensorflow:From C:\\Users\\ETHIRAJ\\Anaconda3\\lib\\site-packages\\tensorflow\\python\\framework\\op_def_library.py:263: colocate_with (from tensorflow.python.framework.ops) is deprecated and will be removed in a future version.\n",
      "Instructions for updating:\n",
      "Colocations handled automatically by placer.\n",
      "_________________________________________________________________\n",
      "Layer (type)                 Output Shape              Param #   \n",
      "=================================================================\n",
      "dense_1 (Dense)              (None, 100)               400       \n",
      "_________________________________________________________________\n",
      "dense_2 (Dense)              (None, 1500)              151500    \n",
      "_________________________________________________________________\n",
      "dense_3 (Dense)              (None, 1500)              2251500   \n",
      "_________________________________________________________________\n",
      "dense_4 (Dense)              (None, 1500)              2251500   \n",
      "_________________________________________________________________\n",
      "dense_5 (Dense)              (None, 1500)              2251500   \n",
      "_________________________________________________________________\n",
      "dense_6 (Dense)              (None, 1)                 1501      \n",
      "=================================================================\n",
      "Total params: 6,907,901\n",
      "Trainable params: 6,907,901\n",
      "Non-trainable params: 0\n",
      "_________________________________________________________________\n"
     ]
    }
   ],
   "source": [
    "model = Sequential()\n",
    "model.add(Dense(100, input_dim=3, activation= \"relu\"))\n",
    "model.add(Dense(1500, activation= \"relu\"))\n",
    "model.add(Dense(1500, activation= \"relu\"))\n",
    "model.add(Dense(1500, activation= \"relu\"))\n",
    "model.add(Dense(1500, activation= \"relu\"))\n",
    "model.add(Dense(1))\n",
    "model.summary() "
   ]
  },
  {
   "cell_type": "code",
   "execution_count": 15,
   "metadata": {},
   "outputs": [],
   "source": [
    "model.compile(loss= \"mean_squared_error\" , optimizer=\"adam\", metrics=[\"mean_squared_error\"])"
   ]
  },
  {
   "cell_type": "code",
   "execution_count": 16,
   "metadata": {},
   "outputs": [
    {
     "name": "stdout",
     "output_type": "stream",
     "text": [
      "WARNING:tensorflow:From C:\\Users\\ETHIRAJ\\Anaconda3\\lib\\site-packages\\tensorflow\\python\\ops\\math_ops.py:3066: to_int32 (from tensorflow.python.ops.math_ops) is deprecated and will be removed in a future version.\n",
      "Instructions for updating:\n",
      "Use tf.cast instead.\n",
      "Epoch 1/10\n",
      "31200/31200 [==============================] - 155s 5ms/step - loss: 18301641659351.5312 - mean_squared_error: 18301641659351.5312\n",
      "Epoch 2/10\n",
      "31200/31200 [==============================] - 154s 5ms/step - loss: 18292053158739.2344 - mean_squared_error: 18292053158739.2344\n",
      "Epoch 3/10\n",
      "31200/31200 [==============================] - 154s 5ms/step - loss: 18291537669249.1836 - mean_squared_error: 18291537669249.1836\n",
      "Epoch 4/10\n",
      "31200/31200 [==============================] - 154s 5ms/step - loss: 18291655651312.2461 - mean_squared_error: 18291655651312.2461\n",
      "Epoch 5/10\n",
      "31200/31200 [==============================] - 155s 5ms/step - loss: 18290131817993.4531 - mean_squared_error: 18290131817993.4531\n",
      "Epoch 6/10\n",
      "31200/31200 [==============================] - 156s 5ms/step - loss: 18288419975270.9258 - mean_squared_error: 18288419975270.9258\n",
      "Epoch 7/10\n",
      "31200/31200 [==============================] - 157s 5ms/step - loss: 18283375773270.6445 - mean_squared_error: 18283375773270.6445\n",
      "Epoch 8/10\n",
      "31200/31200 [==============================] - 157s 5ms/step - loss: 18286461234522.5859 - mean_squared_error: 18286461234522.5859\n",
      "Epoch 9/10\n",
      "31200/31200 [==============================] - 158s 5ms/step - loss: 18288354225064.3047 - mean_squared_error: 18288354225064.3047\n",
      "Epoch 10/10\n",
      "31200/31200 [==============================] - 158s 5ms/step - loss: 18284408591839.4414 - mean_squared_error: 18284408591839.44144s - loss: 1560194\n"
     ]
    },
    {
     "data": {
      "text/plain": [
       "<keras.callbacks.History at 0x22f8f70deb8>"
      ]
     },
     "execution_count": 16,
     "metadata": {},
     "output_type": "execute_result"
    }
   ],
   "source": [
    "model.fit(train_features, train_labels, epochs=10)"
   ]
  },
  {
   "cell_type": "code",
   "execution_count": 17,
   "metadata": {},
   "outputs": [
    {
     "name": "stdout",
     "output_type": "stream",
     "text": [
      "Mean Absolute Error: 571424.62 degrees.\n"
     ]
    }
   ],
   "source": [
    "pred= model.predict(test_features)\n",
    "errors = abs(pred - test_labels)\n",
    "print('Mean Absolute Error:', round(np.mean(errors), 2), 'degrees.')"
   ]
  },
  {
   "cell_type": "code",
   "execution_count": 18,
   "metadata": {},
   "outputs": [
    {
     "name": "stdout",
     "output_type": "stream",
     "text": [
      "0.0\n"
     ]
    }
   ],
   "source": [
    "accuracy = accuracy_score(test_labels, pred.round())\n",
    "print(accuracy)"
   ]
  },
  {
   "cell_type": "code",
   "execution_count": 19,
   "metadata": {},
   "outputs": [],
   "source": [
    "# so the better model in this case is random forest regressor"
   ]
  },
  {
   "cell_type": "code",
   "execution_count": null,
   "metadata": {},
   "outputs": [],
   "source": []
  }
 ],
 "metadata": {
  "kernelspec": {
   "display_name": "Python 3",
   "language": "python",
   "name": "python3"
  },
  "language_info": {
   "codemirror_mode": {
    "name": "ipython",
    "version": 3
   },
   "file_extension": ".py",
   "mimetype": "text/x-python",
   "name": "python",
   "nbconvert_exporter": "python",
   "pygments_lexer": "ipython3",
   "version": "3.7.1"
  }
 },
 "nbformat": 4,
 "nbformat_minor": 2
}
